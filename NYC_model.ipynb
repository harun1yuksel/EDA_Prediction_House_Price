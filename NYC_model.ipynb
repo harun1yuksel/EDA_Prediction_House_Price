{
 "cells": [
  {
   "cell_type": "code",
   "execution_count": 1,
   "id": "f158397a-6b46-4d9d-b899-e589e1ee0b28",
   "metadata": {
    "tags": []
   },
   "outputs": [
    {
     "data": {
      "text/html": [
       "<style>.jp-CodeCell.jp-mod-outputsScrolled .jp-Cell-outputArea { max-height: 44em; }</style>"
      ],
      "text/plain": [
       "<IPython.core.display.HTML object>"
      ]
     },
     "metadata": {},
     "output_type": "display_data"
    }
   ],
   "source": [
    "import pandas as pd\n",
    "import numpy as np\n",
    "import matplotlib.pyplot as plt\n",
    "import seaborn as sns \n",
    "\n",
    "from sklearn.model_selection import train_test_split, GridSearchCV, cross_validate\n",
    "from sklearn.linear_model import ElasticNet\n",
    "from sklearn.ensemble import RandomForestRegressor\n",
    "from xgboost import XGBRegressor\n",
    "\n",
    "\n",
    "from sklearn.preprocessing import StandardScaler, OneHotEncoder, OrdinalEncoder\n",
    "from sklearn.compose import make_column_transformer\n",
    "\n",
    "from sklearn.metrics import r2_score, mean_absolute_error, mean_squared_error\n",
    "from yellowbrick.regressor import PredictionError\n",
    "from yellowbrick.features import RadViz\n",
    "from yellowbrick.model_selection import FeatureImportances\n",
    "\n",
    "from sklearn.pipeline import Pipeline\n",
    "import pickle\n",
    "\n",
    "import warnings\n",
    "warnings.filterwarnings(action= \"ignore\")\n",
    "\n",
    "from IPython.display import display, HTML\n",
    "display(HTML(\"<style>.jp-CodeCell.jp-mod-outputsScrolled .jp-Cell-outputArea { max-height: 44em; }</style>\"))\n",
    "\n"
   ]
  },
  {
   "cell_type": "code",
   "execution_count": 2,
   "id": "3b63248c-c71a-4195-a435-2f1ac71742b1",
   "metadata": {},
   "outputs": [],
   "source": [
    "df = pd.read_csv(\"NYC_clean_without_outliers.csv\")"
   ]
  },
  {
   "cell_type": "code",
   "execution_count": 3,
   "id": "8f260a5a-3c1e-45fd-b39b-4e328b1c1195",
   "metadata": {},
   "outputs": [
    {
     "name": "stdout",
     "output_type": "stream",
     "text": [
      "<class 'pandas.core.frame.DataFrame'>\n",
      "RangeIndex: 24884 entries, 0 to 24883\n",
      "Data columns (total 19 columns):\n",
      " #   Column                          Non-Null Count  Dtype  \n",
      "---  ------                          --------------  -----  \n",
      " 0   NEIGHBORHOOD                    24884 non-null  object \n",
      " 1   BUILDING_CLASS_CATEGORY         24884 non-null  object \n",
      " 2   TAX_CLASS_AT_PRESENT            24884 non-null  object \n",
      " 3   TAX_CLASS_AT_TIME_OF_SALE       24884 non-null  int64  \n",
      " 4   BLOCK                           24884 non-null  int64  \n",
      " 5   LOT                             24884 non-null  int64  \n",
      " 6   BUILDING_CLASS_AT_PRESENT       24884 non-null  object \n",
      " 7   BUILDING_CLASS_AT_TIME_OF_SALE  24884 non-null  object \n",
      " 8   ADDRESS                         24884 non-null  object \n",
      " 9   ZIP_CODE                        24884 non-null  int64  \n",
      " 10  RESIDENTIAL_UNITS               24884 non-null  int64  \n",
      " 11  COMMERCIAL_UNITS                24884 non-null  int64  \n",
      " 12  TOTAL_UNITS                     24884 non-null  float64\n",
      " 13  LAND_SQUARE_FEET                24884 non-null  float64\n",
      " 14  GROSS_SQUARE_FEET               24884 non-null  float64\n",
      " 15  SALE_PRICE                      24884 non-null  float64\n",
      " 16  SALE_DATE                       24884 non-null  object \n",
      " 17  BOROUGH_NAME                    24884 non-null  object \n",
      " 18  AGE                             24884 non-null  int64  \n",
      "dtypes: float64(4), int64(7), object(8)\n",
      "memory usage: 3.6+ MB\n"
     ]
    }
   ],
   "source": [
    "df.info()"
   ]
  },
  {
   "cell_type": "code",
   "execution_count": 4,
   "id": "c033da73-54a8-46f1-9040-d6c4ab06277a",
   "metadata": {},
   "outputs": [
    {
     "data": {
      "text/plain": [
       "Index(['NEIGHBORHOOD', 'BUILDING_CLASS_CATEGORY', 'TAX_CLASS_AT_PRESENT',\n",
       "       'TAX_CLASS_AT_TIME_OF_SALE', 'BLOCK', 'LOT',\n",
       "       'BUILDING_CLASS_AT_PRESENT', 'BUILDING_CLASS_AT_TIME_OF_SALE',\n",
       "       'ADDRESS', 'ZIP_CODE', 'RESIDENTIAL_UNITS', 'COMMERCIAL_UNITS',\n",
       "       'TOTAL_UNITS', 'LAND_SQUARE_FEET', 'GROSS_SQUARE_FEET', 'SALE_PRICE',\n",
       "       'SALE_DATE', 'BOROUGH_NAME', 'AGE'],\n",
       "      dtype='object')"
      ]
     },
     "execution_count": 4,
     "metadata": {},
     "output_type": "execute_result"
    }
   ],
   "source": [
    "df.columns"
   ]
  },
  {
   "cell_type": "code",
   "execution_count": 5,
   "id": "1d86df22-0d16-4e1a-9f8a-38cd0b677e25",
   "metadata": {},
   "outputs": [
    {
     "data": {
      "text/plain": [
       "(9239, 645, 24254, 147, 216)"
      ]
     },
     "execution_count": 5,
     "metadata": {},
     "output_type": "execute_result"
    }
   ],
   "source": [
    "df.BLOCK.nunique(), df.LOT.nunique(), df.ADDRESS.nunique(), df.ZIP_CODE.nunique(), df.NEIGHBORHOOD.nunique()"
   ]
  },
  {
   "cell_type": "code",
   "execution_count": 6,
   "id": "d39bdf2b-9e40-4ef7-96b8-383677b391fe",
   "metadata": {},
   "outputs": [],
   "source": [
    "df.drop(columns= ['BLOCK', 'LOT', 'ADDRESS', 'ZIP_CODE', 'SALE_DATE'], inplace=True)"
   ]
  },
  {
   "cell_type": "code",
   "execution_count": 7,
   "id": "fd970ebd-10a5-4c67-a3a7-7dea1f0961c8",
   "metadata": {},
   "outputs": [
    {
     "name": "stdout",
     "output_type": "stream",
     "text": [
      "<class 'pandas.core.frame.DataFrame'>\n",
      "RangeIndex: 24884 entries, 0 to 24883\n",
      "Data columns (total 14 columns):\n",
      " #   Column                          Non-Null Count  Dtype  \n",
      "---  ------                          --------------  -----  \n",
      " 0   NEIGHBORHOOD                    24884 non-null  object \n",
      " 1   BUILDING_CLASS_CATEGORY         24884 non-null  object \n",
      " 2   TAX_CLASS_AT_PRESENT            24884 non-null  object \n",
      " 3   TAX_CLASS_AT_TIME_OF_SALE       24884 non-null  int64  \n",
      " 4   BUILDING_CLASS_AT_PRESENT       24884 non-null  object \n",
      " 5   BUILDING_CLASS_AT_TIME_OF_SALE  24884 non-null  object \n",
      " 6   RESIDENTIAL_UNITS               24884 non-null  int64  \n",
      " 7   COMMERCIAL_UNITS                24884 non-null  int64  \n",
      " 8   TOTAL_UNITS                     24884 non-null  float64\n",
      " 9   LAND_SQUARE_FEET                24884 non-null  float64\n",
      " 10  GROSS_SQUARE_FEET               24884 non-null  float64\n",
      " 11  SALE_PRICE                      24884 non-null  float64\n",
      " 12  BOROUGH_NAME                    24884 non-null  object \n",
      " 13  AGE                             24884 non-null  int64  \n",
      "dtypes: float64(4), int64(4), object(6)\n",
      "memory usage: 2.7+ MB\n"
     ]
    }
   ],
   "source": [
    "df.info()"
   ]
  },
  {
   "cell_type": "code",
   "execution_count": 8,
   "id": "3e5f6ed0-37ad-4625-aaba-e5cdd1c8e34d",
   "metadata": {},
   "outputs": [],
   "source": [
    "df.TAX_CLASS_AT_TIME_OF_SALE = df[[\"TAX_CLASS_AT_TIME_OF_SALE\"]].astype(\"object\")"
   ]
  },
  {
   "cell_type": "code",
   "execution_count": 9,
   "id": "af26eeec-0fbd-43c7-abc3-a8969113e592",
   "metadata": {},
   "outputs": [],
   "source": [
    "X = df.drop(\"SALE_PRICE\", axis=1)\n",
    "y = df.SALE_PRICE"
   ]
  },
  {
   "cell_type": "code",
   "execution_count": 10,
   "id": "7e4ad560-d62a-4274-bc0d-3506217f40aa",
   "metadata": {},
   "outputs": [],
   "source": [
    "X_train, X_test, y_train, y_test = train_test_split(X, y, test_size=0.2, random_state=101)"
   ]
  },
  {
   "cell_type": "code",
   "execution_count": 11,
   "id": "782f495d-dbbf-48d5-851f-3d4c3fa1cd2a",
   "metadata": {},
   "outputs": [
    {
     "data": {
      "text/plain": [
       "Index(['RESIDENTIAL_UNITS', 'COMMERCIAL_UNITS', 'TOTAL_UNITS',\n",
       "       'LAND_SQUARE_FEET', 'GROSS_SQUARE_FEET', 'AGE'],\n",
       "      dtype='object')"
      ]
     },
     "execution_count": 11,
     "metadata": {},
     "output_type": "execute_result"
    }
   ],
   "source": [
    "num = X.select_dtypes('number').columns\n",
    "num"
   ]
  },
  {
   "cell_type": "code",
   "execution_count": 12,
   "id": "915e0fd0-5834-4562-8cb1-1c8adf2e7dda",
   "metadata": {},
   "outputs": [
    {
     "data": {
      "text/plain": [
       "Index(['NEIGHBORHOOD', 'BUILDING_CLASS_CATEGORY', 'TAX_CLASS_AT_PRESENT',\n",
       "       'TAX_CLASS_AT_TIME_OF_SALE', 'BUILDING_CLASS_AT_PRESENT',\n",
       "       'BUILDING_CLASS_AT_TIME_OF_SALE', 'BOROUGH_NAME'],\n",
       "      dtype='object')"
      ]
     },
     "execution_count": 12,
     "metadata": {},
     "output_type": "execute_result"
    }
   ],
   "source": [
    "cat = X.select_dtypes(\"object\").columns\n",
    "cat"
   ]
  },
  {
   "cell_type": "markdown",
   "id": "be30a829-ecf6-4476-9633-5f749f6f5d0a",
   "metadata": {},
   "source": [
    "Below we will apply standard scale and OneHot encoding transformations to our data."
   ]
  },
  {
   "cell_type": "code",
   "execution_count": 13,
   "id": "01e9304d-99b9-4fb1-95ea-139f8e7f1c0e",
   "metadata": {},
   "outputs": [],
   "source": [
    "oneHot_enc = OneHotEncoder(drop=\"first\", handle_unknown='ignore')\n",
    "\n",
    "\n",
    "\n",
    "column_trans_em = make_column_transformer( (oneHot_enc, cat),\n",
    "                                        (StandardScaler(), num),\n",
    "                                        remainder='passthrough'\n",
    "                                      )\n",
    "    \n",
    "\n",
    "X_train = column_trans_em.fit_transform(X_train)\n",
    "\n",
    "X_test = column_trans_em.transform(X_test)\n"
   ]
  },
  {
   "cell_type": "code",
   "execution_count": 14,
   "id": "a044ba51-eef2-4984-86eb-7cb79452f664",
   "metadata": {},
   "outputs": [
    {
     "data": {
      "text/plain": [
       "((19907, 381), (4977, 381))"
      ]
     },
     "execution_count": 14,
     "metadata": {},
     "output_type": "execute_result"
    }
   ],
   "source": [
    "X_train.shape, X_test.shape"
   ]
  },
  {
   "cell_type": "markdown",
   "id": "0e163013-ad12-43ee-b11f-e0c44b6e0ff7",
   "metadata": {},
   "source": [
    "Below we will find best parameters for ElasticNet and perform a 5 fold cross validation"
   ]
  },
  {
   "cell_type": "code",
   "execution_count": 15,
   "id": "a1bb82a5-20e1-41d5-b9fd-3f48f329dd7b",
   "metadata": {},
   "outputs": [],
   "source": [
    "param_grid = {'alpha':[5,10,50,100],\n",
    "              'l1_ratio':[0.3, 0.5, 0.7, 0.9, 1]}\n",
    "\n",
    "elastic_model = ElasticNet()"
   ]
  },
  {
   "cell_type": "code",
   "execution_count": 16,
   "id": "475389fe-b43f-429b-876c-65c60aee15ec",
   "metadata": {},
   "outputs": [],
   "source": [
    "grid_em = GridSearchCV(estimator=elastic_model,\n",
    "                          param_grid=param_grid,\n",
    "                          scoring= 'neg_mean_squared_error',\n",
    "                          cv=5,\n",
    "                          verbose=1,\n",
    "                          n_jobs=-1)"
   ]
  },
  {
   "cell_type": "code",
   "execution_count": 17,
   "id": "ef4b9b9c-9cb7-4dbd-a442-696cf9013b5f",
   "metadata": {
    "scrolled": true,
    "tags": []
   },
   "outputs": [
    {
     "name": "stdout",
     "output_type": "stream",
     "text": [
      "Fitting 5 folds for each of 20 candidates, totalling 100 fits\n"
     ]
    },
    {
     "name": "stderr",
     "output_type": "stream",
     "text": [
      "/home/harun/anaconda3/lib/python3.11/site-packages/sklearn/linear_model/_coordinate_descent.py:589: ConvergenceWarning: Objective did not converge. You might want to increase the number of iterations. Duality gap: 731258819916.0, tolerance: 209500458959.09885\n",
      "  model = cd_fast.sparse_enet_coordinate_descent(\n",
      "/home/harun/anaconda3/lib/python3.11/site-packages/sklearn/linear_model/_coordinate_descent.py:589: ConvergenceWarning: Objective did not converge. You might want to increase the number of iterations. Duality gap: 267442148234043.22, tolerance: 209500458959.09885\n",
      "  model = cd_fast.sparse_enet_coordinate_descent(\n",
      "/home/harun/anaconda3/lib/python3.11/site-packages/sklearn/linear_model/_coordinate_descent.py:589: ConvergenceWarning: Objective did not converge. You might want to increase the number of iterations. Duality gap: 284148065099364.25, tolerance: 212084666484.40402\n",
      "  model = cd_fast.sparse_enet_coordinate_descent(\n",
      "/home/harun/anaconda3/lib/python3.11/site-packages/sklearn/linear_model/_coordinate_descent.py:589: ConvergenceWarning: Objective did not converge. You might want to increase the number of iterations. Duality gap: 235882402768092.66, tolerance: 211183696776.04523\n",
      "  model = cd_fast.sparse_enet_coordinate_descent(\n",
      "/home/harun/anaconda3/lib/python3.11/site-packages/sklearn/linear_model/_coordinate_descent.py:589: ConvergenceWarning: Objective did not converge. You might want to increase the number of iterations. Duality gap: 287510437563552.1, tolerance: 210315039707.3144\n",
      "  model = cd_fast.sparse_enet_coordinate_descent(\n",
      "/home/harun/anaconda3/lib/python3.11/site-packages/sklearn/linear_model/_coordinate_descent.py:589: ConvergenceWarning: Objective did not converge. You might want to increase the number of iterations. Duality gap: 85624642920502.19, tolerance: 209500458959.09885\n",
      "  model = cd_fast.sparse_enet_coordinate_descent(\n",
      "/home/harun/anaconda3/lib/python3.11/site-packages/sklearn/linear_model/_coordinate_descent.py:589: ConvergenceWarning: Objective did not converge. You might want to increase the number of iterations. Duality gap: 146956204366324.3, tolerance: 212084666484.40402\n",
      "  model = cd_fast.sparse_enet_coordinate_descent(\n",
      "/home/harun/anaconda3/lib/python3.11/site-packages/sklearn/linear_model/_coordinate_descent.py:589: ConvergenceWarning: Objective did not converge. You might want to increase the number of iterations. Duality gap: 181381000051898.8, tolerance: 210315039707.3144\n",
      "  model = cd_fast.sparse_enet_coordinate_descent(\n",
      "/home/harun/anaconda3/lib/python3.11/site-packages/sklearn/linear_model/_coordinate_descent.py:589: ConvergenceWarning: Objective did not converge. You might want to increase the number of iterations. Duality gap: 172815397146630.75, tolerance: 210233771894.36578\n",
      "  model = cd_fast.sparse_enet_coordinate_descent(\n",
      "/home/harun/anaconda3/lib/python3.11/site-packages/sklearn/linear_model/_coordinate_descent.py:589: ConvergenceWarning: Objective did not converge. You might want to increase the number of iterations. Duality gap: 303669248456826.75, tolerance: 210233771894.36578\n",
      "  model = cd_fast.sparse_enet_coordinate_descent(\n",
      "/home/harun/anaconda3/lib/python3.11/site-packages/sklearn/linear_model/_coordinate_descent.py:589: ConvergenceWarning: Objective did not converge. You might want to increase the number of iterations. Duality gap: 40848417297920.875, tolerance: 211183696776.04523\n",
      "  model = cd_fast.sparse_enet_coordinate_descent(\n",
      "/home/harun/anaconda3/lib/python3.11/site-packages/sklearn/linear_model/_coordinate_descent.py:589: ConvergenceWarning: Objective did not converge. You might want to increase the number of iterations. Duality gap: 976658012641.25, tolerance: 210315039707.3144\n",
      "  model = cd_fast.sparse_enet_coordinate_descent(\n",
      "/home/harun/anaconda3/lib/python3.11/site-packages/sklearn/linear_model/_coordinate_descent.py:589: ConvergenceWarning: Objective did not converge. You might want to increase the number of iterations. Duality gap: 736668009774.75, tolerance: 212084666484.40402\n",
      "  model = cd_fast.sparse_enet_coordinate_descent(\n",
      "/home/harun/anaconda3/lib/python3.11/site-packages/sklearn/linear_model/_coordinate_descent.py:589: ConvergenceWarning: Objective did not converge. You might want to increase the number of iterations. Duality gap: 1979411048186.125, tolerance: 210233771894.36578\n",
      "  model = cd_fast.sparse_enet_coordinate_descent(\n"
     ]
    },
    {
     "data": {
      "text/html": [
       "<style>#sk-container-id-1 {color: black;}#sk-container-id-1 pre{padding: 0;}#sk-container-id-1 div.sk-toggleable {background-color: white;}#sk-container-id-1 label.sk-toggleable__label {cursor: pointer;display: block;width: 100%;margin-bottom: 0;padding: 0.3em;box-sizing: border-box;text-align: center;}#sk-container-id-1 label.sk-toggleable__label-arrow:before {content: \"▸\";float: left;margin-right: 0.25em;color: #696969;}#sk-container-id-1 label.sk-toggleable__label-arrow:hover:before {color: black;}#sk-container-id-1 div.sk-estimator:hover label.sk-toggleable__label-arrow:before {color: black;}#sk-container-id-1 div.sk-toggleable__content {max-height: 0;max-width: 0;overflow: hidden;text-align: left;background-color: #f0f8ff;}#sk-container-id-1 div.sk-toggleable__content pre {margin: 0.2em;color: black;border-radius: 0.25em;background-color: #f0f8ff;}#sk-container-id-1 input.sk-toggleable__control:checked~div.sk-toggleable__content {max-height: 200px;max-width: 100%;overflow: auto;}#sk-container-id-1 input.sk-toggleable__control:checked~label.sk-toggleable__label-arrow:before {content: \"▾\";}#sk-container-id-1 div.sk-estimator input.sk-toggleable__control:checked~label.sk-toggleable__label {background-color: #d4ebff;}#sk-container-id-1 div.sk-label input.sk-toggleable__control:checked~label.sk-toggleable__label {background-color: #d4ebff;}#sk-container-id-1 input.sk-hidden--visually {border: 0;clip: rect(1px 1px 1px 1px);clip: rect(1px, 1px, 1px, 1px);height: 1px;margin: -1px;overflow: hidden;padding: 0;position: absolute;width: 1px;}#sk-container-id-1 div.sk-estimator {font-family: monospace;background-color: #f0f8ff;border: 1px dotted black;border-radius: 0.25em;box-sizing: border-box;margin-bottom: 0.5em;}#sk-container-id-1 div.sk-estimator:hover {background-color: #d4ebff;}#sk-container-id-1 div.sk-parallel-item::after {content: \"\";width: 100%;border-bottom: 1px solid gray;flex-grow: 1;}#sk-container-id-1 div.sk-label:hover label.sk-toggleable__label {background-color: #d4ebff;}#sk-container-id-1 div.sk-serial::before {content: \"\";position: absolute;border-left: 1px solid gray;box-sizing: border-box;top: 0;bottom: 0;left: 50%;z-index: 0;}#sk-container-id-1 div.sk-serial {display: flex;flex-direction: column;align-items: center;background-color: white;padding-right: 0.2em;padding-left: 0.2em;position: relative;}#sk-container-id-1 div.sk-item {position: relative;z-index: 1;}#sk-container-id-1 div.sk-parallel {display: flex;align-items: stretch;justify-content: center;background-color: white;position: relative;}#sk-container-id-1 div.sk-item::before, #sk-container-id-1 div.sk-parallel-item::before {content: \"\";position: absolute;border-left: 1px solid gray;box-sizing: border-box;top: 0;bottom: 0;left: 50%;z-index: -1;}#sk-container-id-1 div.sk-parallel-item {display: flex;flex-direction: column;z-index: 1;position: relative;background-color: white;}#sk-container-id-1 div.sk-parallel-item:first-child::after {align-self: flex-end;width: 50%;}#sk-container-id-1 div.sk-parallel-item:last-child::after {align-self: flex-start;width: 50%;}#sk-container-id-1 div.sk-parallel-item:only-child::after {width: 0;}#sk-container-id-1 div.sk-dashed-wrapped {border: 1px dashed gray;margin: 0 0.4em 0.5em 0.4em;box-sizing: border-box;padding-bottom: 0.4em;background-color: white;}#sk-container-id-1 div.sk-label label {font-family: monospace;font-weight: bold;display: inline-block;line-height: 1.2em;}#sk-container-id-1 div.sk-label-container {text-align: center;}#sk-container-id-1 div.sk-container {/* jupyter's `normalize.less` sets `[hidden] { display: none; }` but bootstrap.min.css set `[hidden] { display: none !important; }` so we also need the `!important` here to be able to override the default hidden behavior on the sphinx rendered scikit-learn.org. See: https://github.com/scikit-learn/scikit-learn/issues/21755 */display: inline-block !important;position: relative;}#sk-container-id-1 div.sk-text-repr-fallback {display: none;}</style><div id=\"sk-container-id-1\" class=\"sk-top-container\"><div class=\"sk-text-repr-fallback\"><pre>GridSearchCV(cv=5, estimator=ElasticNet(), n_jobs=-1,\n",
       "             param_grid={&#x27;alpha&#x27;: [5, 10, 50, 100],\n",
       "                         &#x27;l1_ratio&#x27;: [0.3, 0.5, 0.7, 0.9, 1]},\n",
       "             scoring=&#x27;neg_mean_squared_error&#x27;, verbose=1)</pre><b>In a Jupyter environment, please rerun this cell to show the HTML representation or trust the notebook. <br />On GitHub, the HTML representation is unable to render, please try loading this page with nbviewer.org.</b></div><div class=\"sk-container\" hidden><div class=\"sk-item sk-dashed-wrapped\"><div class=\"sk-label-container\"><div class=\"sk-label sk-toggleable\"><input class=\"sk-toggleable__control sk-hidden--visually\" id=\"sk-estimator-id-1\" type=\"checkbox\" ><label for=\"sk-estimator-id-1\" class=\"sk-toggleable__label sk-toggleable__label-arrow\">GridSearchCV</label><div class=\"sk-toggleable__content\"><pre>GridSearchCV(cv=5, estimator=ElasticNet(), n_jobs=-1,\n",
       "             param_grid={&#x27;alpha&#x27;: [5, 10, 50, 100],\n",
       "                         &#x27;l1_ratio&#x27;: [0.3, 0.5, 0.7, 0.9, 1]},\n",
       "             scoring=&#x27;neg_mean_squared_error&#x27;, verbose=1)</pre></div></div></div><div class=\"sk-parallel\"><div class=\"sk-parallel-item\"><div class=\"sk-item\"><div class=\"sk-label-container\"><div class=\"sk-label sk-toggleable\"><input class=\"sk-toggleable__control sk-hidden--visually\" id=\"sk-estimator-id-2\" type=\"checkbox\" ><label for=\"sk-estimator-id-2\" class=\"sk-toggleable__label sk-toggleable__label-arrow\">estimator: ElasticNet</label><div class=\"sk-toggleable__content\"><pre>ElasticNet()</pre></div></div></div><div class=\"sk-serial\"><div class=\"sk-item\"><div class=\"sk-estimator sk-toggleable\"><input class=\"sk-toggleable__control sk-hidden--visually\" id=\"sk-estimator-id-3\" type=\"checkbox\" ><label for=\"sk-estimator-id-3\" class=\"sk-toggleable__label sk-toggleable__label-arrow\">ElasticNet</label><div class=\"sk-toggleable__content\"><pre>ElasticNet()</pre></div></div></div></div></div></div></div></div></div></div>"
      ],
      "text/plain": [
       "GridSearchCV(cv=5, estimator=ElasticNet(), n_jobs=-1,\n",
       "             param_grid={'alpha': [5, 10, 50, 100],\n",
       "                         'l1_ratio': [0.3, 0.5, 0.7, 0.9, 1]},\n",
       "             scoring='neg_mean_squared_error', verbose=1)"
      ]
     },
     "execution_count": 17,
     "metadata": {},
     "output_type": "execute_result"
    }
   ],
   "source": [
    "grid_em.fit(X_train,y_train)"
   ]
  },
  {
   "cell_type": "markdown",
   "id": "161c542c-b61d-41e7-8f26-54abd4a3d7eb",
   "metadata": {},
   "source": [
    "Let's see the best paramaeter that grid search found"
   ]
  },
  {
   "cell_type": "code",
   "execution_count": 18,
   "id": "3478b26c-5e3d-4ba1-a214-d5fc5705f985",
   "metadata": {},
   "outputs": [
    {
     "data": {
      "text/plain": [
       "{'alpha': 50, 'l1_ratio': 1}"
      ]
     },
     "execution_count": 18,
     "metadata": {},
     "output_type": "execute_result"
    }
   ],
   "source": [
    "grid_em.best_params_"
   ]
  },
  {
   "cell_type": "markdown",
   "id": "da136ea7-2904-4e96-aaa7-43742bcd6a64",
   "metadata": {},
   "source": [
    "l1 ratio: 1 means that we will use only L1 (lasso) regularization.  "
   ]
  },
  {
   "cell_type": "code",
   "execution_count": 19,
   "id": "55df68b7-ebaf-48e1-ac92-17b49ab6452f",
   "metadata": {},
   "outputs": [
    {
     "data": {
      "text/plain": [
       "array([-1.17775481e+11, -1.15228919e+11, -1.11405651e+11, -1.03771861e+11,\n",
       "       -5.85733786e+10, -1.22684559e+11, -1.20394208e+11, -1.16613781e+11,\n",
       "       -1.08499442e+11, -5.84602725e+10, -1.29684039e+11, -1.28767331e+11,\n",
       "       -1.26857429e+11, -1.20403647e+11, -5.83508191e+10, -1.30928609e+11,\n",
       "       -1.30417995e+11, -1.29297120e+11, -1.24844182e+11, -5.88208119e+10])"
      ]
     },
     "execution_count": 19,
     "metadata": {},
     "output_type": "execute_result"
    }
   ],
   "source": [
    "grid_em.cv_results_[\"mean_test_score\"]"
   ]
  },
  {
   "cell_type": "code",
   "execution_count": 20,
   "id": "b96670a5-7f3b-4f9b-9e30-9a57010ee643",
   "metadata": {},
   "outputs": [
    {
     "data": {
      "text/plain": [
       "-58350819139.26103"
      ]
     },
     "execution_count": 20,
     "metadata": {},
     "output_type": "execute_result"
    }
   ],
   "source": [
    "grid_em.best_score_"
   ]
  },
  {
   "cell_type": "markdown",
   "id": "0f446bd0-77f3-4223-bb9c-f055b2d5986b",
   "metadata": {},
   "source": [
    "Above we see the mean cross-validated score of the best_estimator. We can get the same result below when we perform 5 fold cross validation with the best parameters."
   ]
  },
  {
   "cell_type": "code",
   "execution_count": 21,
   "id": "1e606765-3de9-43d0-9aba-f44c82a83b3d",
   "metadata": {},
   "outputs": [
    {
     "data": {
      "text/plain": [
       "{'fit_time': array([ 4.31896186, 16.58375216, 17.08414817, 16.83721495, 15.66852164]),\n",
       " 'score_time': array([0.00258565, 0.00242591, 0.00242758, 0.0024755 , 0.00239301]),\n",
       " 'test_r2': array([0.54674472, 0.57812972, 0.55622739, 0.55636229, 0.55598886]),\n",
       " 'train_r2': array([0.58340203, 0.57501336, 0.5793871 , 0.58057046, 0.57992124]),\n",
       " 'test_neg_mean_squared_error': array([-5.93402032e+10, -5.69998382e+10, -5.90914880e+10, -5.71049137e+10,\n",
       "        -5.92176526e+10]),\n",
       " 'train_neg_mean_squared_error': array([-5.52456513e+10, -5.59088832e+10, -5.55451582e+10, -5.58549380e+10,\n",
       "        -5.54531847e+10])}"
      ]
     },
     "execution_count": 21,
     "metadata": {},
     "output_type": "execute_result"
    }
   ],
   "source": [
    "\n",
    "elastic_model = ElasticNet(l1_ratio=1, alpha= 50)\n",
    "\n",
    "cv_results = cross_validate(elastic_model, X_train, y_train, cv = 5, scoring=('r2', 'neg_mean_squared_error'), return_train_score=True)\n",
    "cv_results"
   ]
  },
  {
   "cell_type": "code",
   "execution_count": 22,
   "id": "ef36b204-e8d3-4cbb-be3d-fb4523718c0b",
   "metadata": {},
   "outputs": [
    {
     "data": {
      "text/plain": [
       "-58350819139.26103"
      ]
     },
     "execution_count": 22,
     "metadata": {},
     "output_type": "execute_result"
    }
   ],
   "source": [
    "cv_results['test_neg_mean_squared_error'].mean()"
   ]
  },
  {
   "cell_type": "markdown",
   "id": "ddd4505b-af5a-4d58-98cf-fbdc9a9d1b51",
   "metadata": {},
   "source": [
    "We will use a validation function to compare our test and train predictions. "
   ]
  },
  {
   "cell_type": "code",
   "execution_count": 23,
   "id": "c72ddfc8-d3a4-4641-a81b-a1d700ab98d9",
   "metadata": {},
   "outputs": [],
   "source": [
    "def train_val(model, X_train, y_train, X_test, y_test):\n",
    "    \n",
    "    y_pred = model.predict(X_test)\n",
    "    y_train_pred = model.predict(X_train)\n",
    "    \n",
    "    scores = {\"train\": \n",
    "                       {\"R2\" : r2_score(y_train, y_train_pred),\n",
    "                        \"mae\" : mean_absolute_error(y_train, y_train_pred),\n",
    "                        \"mse\" : mean_squared_error(y_train, y_train_pred),                          \n",
    "                        \"rmse\" : np.sqrt(mean_squared_error(y_train, y_train_pred))},\n",
    "\n",
    "               \"test\": \n",
    "                        {\"R2\" : r2_score(y_test, y_pred),\n",
    "                        \"mae\" : mean_absolute_error(y_test, y_pred),\n",
    "                        \"mse\" : mean_squared_error(y_test, y_pred),\n",
    "                        \"rmse\" : np.sqrt(mean_squared_error(y_test, y_pred))}\n",
    "             }\n",
    "    \n",
    "    return pd.DataFrame(scores)"
   ]
  },
  {
   "cell_type": "code",
   "execution_count": 24,
   "id": "00656ef6-5e1e-47b3-8bb4-a34672981b7e",
   "metadata": {},
   "outputs": [
    {
     "data": {
      "text/html": [
       "<div>\n",
       "<style scoped>\n",
       "    .dataframe tbody tr th:only-of-type {\n",
       "        vertical-align: middle;\n",
       "    }\n",
       "\n",
       "    .dataframe tbody tr th {\n",
       "        vertical-align: top;\n",
       "    }\n",
       "\n",
       "    .dataframe thead th {\n",
       "        text-align: right;\n",
       "    }\n",
       "</style>\n",
       "<table border=\"1\" class=\"dataframe\">\n",
       "  <thead>\n",
       "    <tr style=\"text-align: right;\">\n",
       "      <th></th>\n",
       "      <th>em_train</th>\n",
       "      <th>em_test</th>\n",
       "    </tr>\n",
       "  </thead>\n",
       "  <tbody>\n",
       "    <tr>\n",
       "      <th>R2</th>\n",
       "      <td>5.774317e-01</td>\n",
       "      <td>5.801466e-01</td>\n",
       "    </tr>\n",
       "    <tr>\n",
       "      <th>mae</th>\n",
       "      <td>1.571698e+05</td>\n",
       "      <td>1.608417e+05</td>\n",
       "    </tr>\n",
       "    <tr>\n",
       "      <th>mse</th>\n",
       "      <td>5.589793e+10</td>\n",
       "      <td>5.826114e+10</td>\n",
       "    </tr>\n",
       "    <tr>\n",
       "      <th>rmse</th>\n",
       "      <td>2.364274e+05</td>\n",
       "      <td>2.413735e+05</td>\n",
       "    </tr>\n",
       "  </tbody>\n",
       "</table>\n",
       "</div>"
      ],
      "text/plain": [
       "          em_train       em_test\n",
       "R2    5.774317e-01  5.801466e-01\n",
       "mae   1.571698e+05  1.608417e+05\n",
       "mse   5.589793e+10  5.826114e+10\n",
       "rmse  2.364274e+05  2.413735e+05"
      ]
     },
     "execution_count": 24,
     "metadata": {},
     "output_type": "execute_result"
    }
   ],
   "source": [
    "elastic_model_results = train_val(grid_em, X_train, y_train, X_test, y_test)\n",
    "elastic_model_results.columns = [\"em_train\", \"em_test\"]\n",
    "elastic_model_results"
   ]
  },
  {
   "cell_type": "markdown",
   "id": "eeb18c3d-ad2c-4239-953e-0a2563bab233",
   "metadata": {},
   "source": [
    "Above we see that \n",
    "1. R2 is 0.58. R2 score is a metric for the goodness of the fit. It takes values between (0-1) 1 means a perfect fit. Our model can explain the %58 of the total variance of target variable.\n",
    "2. Our metrics are close to each other but we have 240K rmse. Also mae and rmse are far from each other this shows that we still have outliers in our data. \n",
    "3. We can say that there is not an overfit but our model is not good enough."
   ]
  },
  {
   "cell_type": "markdown",
   "id": "db71e36b-4395-4cf4-8c98-f5611f3a505d",
   "metadata": {},
   "source": [
    "Let's compare the predicted and the real values in below plot."
   ]
  },
  {
   "cell_type": "code",
   "execution_count": 25,
   "id": "de00d22f-db48-4602-b44d-13b55c5ca3fe",
   "metadata": {},
   "outputs": [
    {
     "data": {
      "image/png": "[encoded data removed]",
      "text/plain": [
       "<Figure size 800x550 with 1 Axes>"
      ]
     },
     "metadata": {},
     "output_type": "display_data"
    }
   ],
   "source": [
    "model = grid_em\n",
    "visualizer = PredictionError(model)\n",
    "visualizer.fit(X_train, y_train)  # Fit the training data to the visualizer\n",
    "visualizer.score(X_test, y_test)  # Evaluate the model on the test data\n",
    "visualizer\n",
    "visualizer.show();"
   ]
  },
  {
   "cell_type": "markdown",
   "id": "c96261c6-e6ba-4e34-afee-0e1dd5634c1b",
   "metadata": {},
   "source": [
    "Let's try another model; Random Forest."
   ]
  },
  {
   "cell_type": "markdown",
   "id": "75fdb386-1da4-4cdb-9d38-2d06e01547fd",
   "metadata": {},
   "source": [
    "With random forest we can use ordinal encoder. So We will do data preparation again. "
   ]
  },
  {
   "cell_type": "code",
   "execution_count": 26,
   "id": "ee1aad69-fe01-4607-b005-8d6f4a0ca00d",
   "metadata": {},
   "outputs": [],
   "source": [
    "X_train, X_test, y_train, y_test = train_test_split(X, y, test_size=0.2, random_state=101)\n",
    "\n",
    "ord_enc = OrdinalEncoder(handle_unknown='use_encoded_value', unknown_value=-1)\n",
    "column_trans_rf = make_column_transformer( (ord_enc, cat),\n",
    "                                        (StandardScaler(), num),\n",
    "                                        remainder='passthrough'\n",
    "                                      )\n",
    "    \n",
    "\n",
    "X_train = column_trans_rf.fit_transform(X_train)\n",
    "\n",
    "X_test = column_trans_rf.transform(X_test)"
   ]
  },
  {
   "cell_type": "code",
   "execution_count": 27,
   "id": "248b683a-b209-4b09-a5d5-cc11e2153266",
   "metadata": {},
   "outputs": [
    {
     "data": {
      "text/html": [
       "<div>\n",
       "<style scoped>\n",
       "    .dataframe tbody tr th:only-of-type {\n",
       "        vertical-align: middle;\n",
       "    }\n",
       "\n",
       "    .dataframe tbody tr th {\n",
       "        vertical-align: top;\n",
       "    }\n",
       "\n",
       "    .dataframe thead th {\n",
       "        text-align: right;\n",
       "    }\n",
       "</style>\n",
       "<table border=\"1\" class=\"dataframe\">\n",
       "  <thead>\n",
       "    <tr style=\"text-align: right;\">\n",
       "      <th></th>\n",
       "      <th>train</th>\n",
       "      <th>test</th>\n",
       "    </tr>\n",
       "  </thead>\n",
       "  <tbody>\n",
       "    <tr>\n",
       "      <th>R2</th>\n",
       "      <td>9.182269e-01</td>\n",
       "      <td>5.521772e-01</td>\n",
       "    </tr>\n",
       "    <tr>\n",
       "      <th>mae</th>\n",
       "      <td>6.739020e+04</td>\n",
       "      <td>1.670364e+05</td>\n",
       "    </tr>\n",
       "    <tr>\n",
       "      <th>mse</th>\n",
       "      <td>1.081706e+10</td>\n",
       "      <td>6.214233e+10</td>\n",
       "    </tr>\n",
       "    <tr>\n",
       "      <th>rmse</th>\n",
       "      <td>1.040051e+05</td>\n",
       "      <td>2.492836e+05</td>\n",
       "    </tr>\n",
       "  </tbody>\n",
       "</table>\n",
       "</div>"
      ],
      "text/plain": [
       "             train          test\n",
       "R2    9.182269e-01  5.521772e-01\n",
       "mae   6.739020e+04  1.670364e+05\n",
       "mse   1.081706e+10  6.214233e+10\n",
       "rmse  1.040051e+05  2.492836e+05"
      ]
     },
     "execution_count": 27,
     "metadata": {},
     "output_type": "execute_result"
    }
   ],
   "source": [
    "rf_model = RandomForestRegressor(random_state=101, n_jobs=-1)\n",
    "\n",
    "rf_model.fit(X_train,y_train)\n",
    "\n",
    "train_val(rf_model, X_train, y_train, X_test, y_test)\n"
   ]
  },
  {
   "cell_type": "markdown",
   "id": "34066a46-0a6d-4ec0-8c44-e0cc4a724a59",
   "metadata": {},
   "source": [
    "Above we see that train error is very low when we compare it to test error. There is an be overfiting. "
   ]
  },
  {
   "cell_type": "markdown",
   "id": "073f05d3-ed64-42bf-aa64-4ec591633639",
   "metadata": {},
   "source": [
    "Let's this time change the parameters of random forest model manually. We will try to reduce max depth to manage overfiting."
   ]
  },
  {
   "cell_type": "code",
   "execution_count": 28,
   "id": "68c7898e-24cb-496a-9963-446a67044bae",
   "metadata": {},
   "outputs": [
    {
     "data": {
      "text/html": [
       "<div>\n",
       "<style scoped>\n",
       "    .dataframe tbody tr th:only-of-type {\n",
       "        vertical-align: middle;\n",
       "    }\n",
       "\n",
       "    .dataframe tbody tr th {\n",
       "        vertical-align: top;\n",
       "    }\n",
       "\n",
       "    .dataframe thead th {\n",
       "        text-align: right;\n",
       "    }\n",
       "</style>\n",
       "<table border=\"1\" class=\"dataframe\">\n",
       "  <thead>\n",
       "    <tr style=\"text-align: right;\">\n",
       "      <th></th>\n",
       "      <th>rf_train</th>\n",
       "      <th>rf_test</th>\n",
       "    </tr>\n",
       "  </thead>\n",
       "  <tbody>\n",
       "    <tr>\n",
       "      <th>R2</th>\n",
       "      <td>5.919371e-01</td>\n",
       "      <td>5.110298e-01</td>\n",
       "    </tr>\n",
       "    <tr>\n",
       "      <th>mae</th>\n",
       "      <td>1.581284e+05</td>\n",
       "      <td>1.766518e+05</td>\n",
       "    </tr>\n",
       "    <tr>\n",
       "      <th>mse</th>\n",
       "      <td>5.397913e+10</td>\n",
       "      <td>6.785217e+10</td>\n",
       "    </tr>\n",
       "    <tr>\n",
       "      <th>rmse</th>\n",
       "      <td>2.323341e+05</td>\n",
       "      <td>2.604845e+05</td>\n",
       "    </tr>\n",
       "  </tbody>\n",
       "</table>\n",
       "</div>"
      ],
      "text/plain": [
       "          rf_train       rf_test\n",
       "R2    5.919371e-01  5.110298e-01\n",
       "mae   1.581284e+05  1.766518e+05\n",
       "mse   5.397913e+10  6.785217e+10\n",
       "rmse  2.323341e+05  2.604845e+05"
      ]
     },
     "execution_count": 28,
     "metadata": {},
     "output_type": "execute_result"
    }
   ],
   "source": [
    "rf_model = RandomForestRegressor(random_state=101, max_depth = 10, n_estimators=150, n_jobs=-1)\n",
    "\n",
    "rf_model.fit(X_train,y_train)\n",
    "rf_model_results = train_val(rf_model, X_train, y_train, X_test, y_test )\n",
    "rf_model_results.columns= [\"rf_train\", \"rf_test\"]\n",
    "rf_model_results"
   ]
  },
  {
   "cell_type": "markdown",
   "id": "f5e7f3d5-382c-43f6-87ac-735002510356",
   "metadata": {},
   "source": [
    "Above we see that train and test errors approached each other."
   ]
  },
  {
   "cell_type": "markdown",
   "id": "0eefdb51-6935-4c10-8563-90ba04418cd2",
   "metadata": {},
   "source": [
    "Below we will look at the feature importance."
   ]
  },
  {
   "cell_type": "code",
   "execution_count": 29,
   "id": "a240df3a-6225-4c36-84fd-0f790b9028dc",
   "metadata": {},
   "outputs": [
    {
     "data": {
      "text/plain": [
       "['NEIGHBORHOOD',\n",
       " 'BUILDING_CLASS_CATEGORY',\n",
       " 'TAX_CLASS_AT_PRESENT',\n",
       " 'TAX_CLASS_AT_TIME_OF_SALE',\n",
       " 'BUILDING_CLASS_AT_PRESENT',\n",
       " 'BUILDING_CLASS_AT_TIME_OF_SALE',\n",
       " 'BOROUGH_NAME',\n",
       " 'RESIDENTIAL_UNITS',\n",
       " 'COMMERCIAL_UNITS',\n",
       " 'TOTAL_UNITS',\n",
       " 'LAND_SQUARE_FEET',\n",
       " 'GROSS_SQUARE_FEET',\n",
       " 'AGE']"
      ]
     },
     "execution_count": 29,
     "metadata": {},
     "output_type": "execute_result"
    }
   ],
   "source": [
    "feature_names = list(X.select_dtypes(\"object\").columns) + list(X.select_dtypes(\"number\").columns)\n",
    "feature_names"
   ]
  },
  {
   "cell_type": "code",
   "execution_count": 30,
   "id": "7b7c7758-4b3c-4eb1-9b76-8a5a71e92a6d",
   "metadata": {},
   "outputs": [
    {
     "data": {
      "image/png": "[encoded data removed]",
      "text/plain": [
       "<Figure size 800x550 with 1 Axes>"
      ]
     },
     "metadata": {},
     "output_type": "display_data"
    }
   ],
   "source": [
    "model = rf_model\n",
    "visualizer = FeatureImportances(model, labels= feature_names, relative= False, topn= 13 )\n",
    "visualizer.fit(X_train, y_train)  # Fit the training data to the visualizer\n",
    "visualizer.score(X_test, y_test)  # Evaluate the model on the test data\n",
    "visualizer.show();"
   ]
  },
  {
   "cell_type": "markdown",
   "id": "22beeed4-de57-4a8e-bdad-00c488b6605a",
   "metadata": {},
   "source": [
    "Above plot shows that most important features are GROSS_SQUARE_FEET, NEIGHBORHOOD, BOROUGH_NAME and, LAND_SQUARE_FEET."
   ]
  },
  {
   "cell_type": "code",
   "execution_count": 31,
   "id": "a93cae83-639f-42fe-80e1-1558e1fd5df5",
   "metadata": {},
   "outputs": [
    {
     "data": {
      "text/html": [
       "<style>#sk-container-id-2 {color: black;}#sk-container-id-2 pre{padding: 0;}#sk-container-id-2 div.sk-toggleable {background-color: white;}#sk-container-id-2 label.sk-toggleable__label {cursor: pointer;display: block;width: 100%;margin-bottom: 0;padding: 0.3em;box-sizing: border-box;text-align: center;}#sk-container-id-2 label.sk-toggleable__label-arrow:before {content: \"▸\";float: left;margin-right: 0.25em;color: #696969;}#sk-container-id-2 label.sk-toggleable__label-arrow:hover:before {color: black;}#sk-container-id-2 div.sk-estimator:hover label.sk-toggleable__label-arrow:before {color: black;}#sk-container-id-2 div.sk-toggleable__content {max-height: 0;max-width: 0;overflow: hidden;text-align: left;background-color: #f0f8ff;}#sk-container-id-2 div.sk-toggleable__content pre {margin: 0.2em;color: black;border-radius: 0.25em;background-color: #f0f8ff;}#sk-container-id-2 input.sk-toggleable__control:checked~div.sk-toggleable__content {max-height: 200px;max-width: 100%;overflow: auto;}#sk-container-id-2 input.sk-toggleable__control:checked~label.sk-toggleable__label-arrow:before {content: \"▾\";}#sk-container-id-2 div.sk-estimator input.sk-toggleable__control:checked~label.sk-toggleable__label {background-color: #d4ebff;}#sk-container-id-2 div.sk-label input.sk-toggleable__control:checked~label.sk-toggleable__label {background-color: #d4ebff;}#sk-container-id-2 input.sk-hidden--visually {border: 0;clip: rect(1px 1px 1px 1px);clip: rect(1px, 1px, 1px, 1px);height: 1px;margin: -1px;overflow: hidden;padding: 0;position: absolute;width: 1px;}#sk-container-id-2 div.sk-estimator {font-family: monospace;background-color: #f0f8ff;border: 1px dotted black;border-radius: 0.25em;box-sizing: border-box;margin-bottom: 0.5em;}#sk-container-id-2 div.sk-estimator:hover {background-color: #d4ebff;}#sk-container-id-2 div.sk-parallel-item::after {content: \"\";width: 100%;border-bottom: 1px solid gray;flex-grow: 1;}#sk-container-id-2 div.sk-label:hover label.sk-toggleable__label {background-color: #d4ebff;}#sk-container-id-2 div.sk-serial::before {content: \"\";position: absolute;border-left: 1px solid gray;box-sizing: border-box;top: 0;bottom: 0;left: 50%;z-index: 0;}#sk-container-id-2 div.sk-serial {display: flex;flex-direction: column;align-items: center;background-color: white;padding-right: 0.2em;padding-left: 0.2em;position: relative;}#sk-container-id-2 div.sk-item {position: relative;z-index: 1;}#sk-container-id-2 div.sk-parallel {display: flex;align-items: stretch;justify-content: center;background-color: white;position: relative;}#sk-container-id-2 div.sk-item::before, #sk-container-id-2 div.sk-parallel-item::before {content: \"\";position: absolute;border-left: 1px solid gray;box-sizing: border-box;top: 0;bottom: 0;left: 50%;z-index: -1;}#sk-container-id-2 div.sk-parallel-item {display: flex;flex-direction: column;z-index: 1;position: relative;background-color: white;}#sk-container-id-2 div.sk-parallel-item:first-child::after {align-self: flex-end;width: 50%;}#sk-container-id-2 div.sk-parallel-item:last-child::after {align-self: flex-start;width: 50%;}#sk-container-id-2 div.sk-parallel-item:only-child::after {width: 0;}#sk-container-id-2 div.sk-dashed-wrapped {border: 1px dashed gray;margin: 0 0.4em 0.5em 0.4em;box-sizing: border-box;padding-bottom: 0.4em;background-color: white;}#sk-container-id-2 div.sk-label label {font-family: monospace;font-weight: bold;display: inline-block;line-height: 1.2em;}#sk-container-id-2 div.sk-label-container {text-align: center;}#sk-container-id-2 div.sk-container {/* jupyter's `normalize.less` sets `[hidden] { display: none; }` but bootstrap.min.css set `[hidden] { display: none !important; }` so we also need the `!important` here to be able to override the default hidden behavior on the sphinx rendered scikit-learn.org. See: https://github.com/scikit-learn/scikit-learn/issues/21755 */display: inline-block !important;position: relative;}#sk-container-id-2 div.sk-text-repr-fallback {display: none;}</style><div id=\"sk-container-id-2\" class=\"sk-top-container\"><div class=\"sk-text-repr-fallback\"><pre>XGBRegressor(base_score=None, booster=None, callbacks=None,\n",
       "             colsample_bylevel=None, colsample_bynode=None,\n",
       "             colsample_bytree=None, early_stopping_rounds=None,\n",
       "             enable_categorical=False, eval_metric=None, feature_types=None,\n",
       "             gamma=None, gpu_id=None, grow_policy=None, importance_type=None,\n",
       "             interaction_constraints=None, learning_rate=None, max_bin=None,\n",
       "             max_cat_threshold=None, max_cat_to_onehot=None,\n",
       "             max_delta_step=None, max_depth=None, max_leaves=None,\n",
       "             min_child_weight=None, missing=nan, monotone_constraints=None,\n",
       "             n_estimators=100, n_jobs=None, num_parallel_tree=None,\n",
       "             predictor=None, random_state=101, ...)</pre><b>In a Jupyter environment, please rerun this cell to show the HTML representation or trust the notebook. <br />On GitHub, the HTML representation is unable to render, please try loading this page with nbviewer.org.</b></div><div class=\"sk-container\" hidden><div class=\"sk-item\"><div class=\"sk-estimator sk-toggleable\"><input class=\"sk-toggleable__control sk-hidden--visually\" id=\"sk-estimator-id-4\" type=\"checkbox\" checked><label for=\"sk-estimator-id-4\" class=\"sk-toggleable__label sk-toggleable__label-arrow\">XGBRegressor</label><div class=\"sk-toggleable__content\"><pre>XGBRegressor(base_score=None, booster=None, callbacks=None,\n",
       "             colsample_bylevel=None, colsample_bynode=None,\n",
       "             colsample_bytree=None, early_stopping_rounds=None,\n",
       "             enable_categorical=False, eval_metric=None, feature_types=None,\n",
       "             gamma=None, gpu_id=None, grow_policy=None, importance_type=None,\n",
       "             interaction_constraints=None, learning_rate=None, max_bin=None,\n",
       "             max_cat_threshold=None, max_cat_to_onehot=None,\n",
       "             max_delta_step=None, max_depth=None, max_leaves=None,\n",
       "             min_child_weight=None, missing=nan, monotone_constraints=None,\n",
       "             n_estimators=100, n_jobs=None, num_parallel_tree=None,\n",
       "             predictor=None, random_state=101, ...)</pre></div></div></div></div></div>"
      ],
      "text/plain": [
       "XGBRegressor(base_score=None, booster=None, callbacks=None,\n",
       "             colsample_bylevel=None, colsample_bynode=None,\n",
       "             colsample_bytree=None, early_stopping_rounds=None,\n",
       "             enable_categorical=False, eval_metric=None, feature_types=None,\n",
       "             gamma=None, gpu_id=None, grow_policy=None, importance_type=None,\n",
       "             interaction_constraints=None, learning_rate=None, max_bin=None,\n",
       "             max_cat_threshold=None, max_cat_to_onehot=None,\n",
       "             max_delta_step=None, max_depth=None, max_leaves=None,\n",
       "             min_child_weight=None, missing=nan, monotone_constraints=None,\n",
       "             n_estimators=100, n_jobs=None, num_parallel_tree=None,\n",
       "             predictor=None, random_state=101, ...)"
      ]
     },
     "execution_count": 31,
     "metadata": {},
     "output_type": "execute_result"
    }
   ],
   "source": [
    "xgb_model = XGBRegressor(random_state=101)\n",
    "xgb_model.fit(X_train, y_train)"
   ]
  },
  {
   "cell_type": "code",
   "execution_count": 32,
   "id": "29dc6808-46a9-4312-9b01-f33852a570b9",
   "metadata": {},
   "outputs": [
    {
     "data": {
      "text/html": [
       "<div>\n",
       "<style scoped>\n",
       "    .dataframe tbody tr th:only-of-type {\n",
       "        vertical-align: middle;\n",
       "    }\n",
       "\n",
       "    .dataframe tbody tr th {\n",
       "        vertical-align: top;\n",
       "    }\n",
       "\n",
       "    .dataframe thead th {\n",
       "        text-align: right;\n",
       "    }\n",
       "</style>\n",
       "<table border=\"1\" class=\"dataframe\">\n",
       "  <thead>\n",
       "    <tr style=\"text-align: right;\">\n",
       "      <th></th>\n",
       "      <th>train</th>\n",
       "      <th>test</th>\n",
       "    </tr>\n",
       "  </thead>\n",
       "  <tbody>\n",
       "    <tr>\n",
       "      <th>R2</th>\n",
       "      <td>7.524687e-01</td>\n",
       "      <td>5.837541e-01</td>\n",
       "    </tr>\n",
       "    <tr>\n",
       "      <th>mae</th>\n",
       "      <td>1.237938e+05</td>\n",
       "      <td>1.614793e+05</td>\n",
       "    </tr>\n",
       "    <tr>\n",
       "      <th>mse</th>\n",
       "      <td>3.274379e+10</td>\n",
       "      <td>5.776055e+10</td>\n",
       "    </tr>\n",
       "    <tr>\n",
       "      <th>rmse</th>\n",
       "      <td>1.809524e+05</td>\n",
       "      <td>2.403342e+05</td>\n",
       "    </tr>\n",
       "  </tbody>\n",
       "</table>\n",
       "</div>"
      ],
      "text/plain": [
       "             train          test\n",
       "R2    7.524687e-01  5.837541e-01\n",
       "mae   1.237938e+05  1.614793e+05\n",
       "mse   3.274379e+10  5.776055e+10\n",
       "rmse  1.809524e+05  2.403342e+05"
      ]
     },
     "execution_count": 32,
     "metadata": {},
     "output_type": "execute_result"
    }
   ],
   "source": [
    "xgb_model_results = train_val(xgb_model, X_train, y_train, X_test, y_test )\n",
    "xgb_model_results"
   ]
  },
  {
   "cell_type": "code",
   "execution_count": 33,
   "id": "4a72e711-f690-43a7-9ad0-5deae09df627",
   "metadata": {
    "scrolled": true,
    "tags": []
   },
   "outputs": [
    {
     "data": {
      "text/html": [
       "<div>\n",
       "<style scoped>\n",
       "    .dataframe tbody tr th:only-of-type {\n",
       "        vertical-align: middle;\n",
       "    }\n",
       "\n",
       "    .dataframe tbody tr th {\n",
       "        vertical-align: top;\n",
       "    }\n",
       "\n",
       "    .dataframe thead th {\n",
       "        text-align: right;\n",
       "    }\n",
       "</style>\n",
       "<table border=\"1\" class=\"dataframe\">\n",
       "  <thead>\n",
       "    <tr style=\"text-align: right;\">\n",
       "      <th></th>\n",
       "      <th>xgb_train</th>\n",
       "      <th>xgb_test</th>\n",
       "    </tr>\n",
       "  </thead>\n",
       "  <tbody>\n",
       "    <tr>\n",
       "      <th>R2</th>\n",
       "      <td>5.261265e-01</td>\n",
       "      <td>5.099902e-01</td>\n",
       "    </tr>\n",
       "    <tr>\n",
       "      <th>mae</th>\n",
       "      <td>1.716777e+05</td>\n",
       "      <td>1.783823e+05</td>\n",
       "    </tr>\n",
       "    <tr>\n",
       "      <th>mse</th>\n",
       "      <td>6.268465e+10</td>\n",
       "      <td>6.799644e+10</td>\n",
       "    </tr>\n",
       "    <tr>\n",
       "      <th>rmse</th>\n",
       "      <td>2.503690e+05</td>\n",
       "      <td>2.607613e+05</td>\n",
       "    </tr>\n",
       "  </tbody>\n",
       "</table>\n",
       "</div>"
      ],
      "text/plain": [
       "         xgb_train      xgb_test\n",
       "R2    5.261265e-01  5.099902e-01\n",
       "mae   1.716777e+05  1.783823e+05\n",
       "mse   6.268465e+10  6.799644e+10\n",
       "rmse  2.503690e+05  2.607613e+05"
      ]
     },
     "execution_count": 33,
     "metadata": {},
     "output_type": "execute_result"
    }
   ],
   "source": [
    "xgb_model = XGBRegressor(max_depth=3, n_estimators=50,  random_state=101)\n",
    "xgb_model.fit(X_train, y_train)\n",
    "\n",
    "xgb_model_results = train_val(xgb_model, X_train, y_train, X_test, y_test )\n",
    "xgb_model_results.columns = [\"xgb_train\", \"xgb_test\"]\n",
    "xgb_model_results"
   ]
  },
  {
   "cell_type": "code",
   "execution_count": 34,
   "id": "c56d6b70-346e-46c0-aa15-316f22d20a91",
   "metadata": {},
   "outputs": [],
   "source": [
    "param_grid = {\"n_estimators\":[100, 150, 200, 250, 300,],\n",
    "              \"max_depth\":[2, 3, 4],\n",
    "              \"learning_rate\": [0.01, 0.05, 0.1]\n",
    "              }"
   ]
  },
  {
   "cell_type": "code",
   "execution_count": 35,
   "id": "5fe15b6b-8d94-4fb6-ac50-5a4cedd746a7",
   "metadata": {},
   "outputs": [],
   "source": [
    "xgb_model = XGBRegressor(random_state=101)\n",
    "grid_xgb = GridSearchCV(estimator=xgb_model,\n",
    "                          param_grid=param_grid,\n",
    "                          scoring='neg_mean_squared_error',\n",
    "                          cv=5,\n",
    "                          verbose=2,\n",
    "                          n_jobs=-1)"
   ]
  },
  {
   "cell_type": "code",
   "execution_count": 36,
   "id": "5e1937b4-e5f8-4b68-8af2-d7c317d16cea",
   "metadata": {},
   "outputs": [
    {
     "name": "stdout",
     "output_type": "stream",
     "text": [
      "Fitting 5 folds for each of 45 candidates, totalling 225 fits\n"
     ]
    },
    {
     "data": {
      "text/html": [
       "<style>#sk-container-id-3 {color: black;}#sk-container-id-3 pre{padding: 0;}#sk-container-id-3 div.sk-toggleable {background-color: white;}#sk-container-id-3 label.sk-toggleable__label {cursor: pointer;display: block;width: 100%;margin-bottom: 0;padding: 0.3em;box-sizing: border-box;text-align: center;}#sk-container-id-3 label.sk-toggleable__label-arrow:before {content: \"▸\";float: left;margin-right: 0.25em;color: #696969;}#sk-container-id-3 label.sk-toggleable__label-arrow:hover:before {color: black;}#sk-container-id-3 div.sk-estimator:hover label.sk-toggleable__label-arrow:before {color: black;}#sk-container-id-3 div.sk-toggleable__content {max-height: 0;max-width: 0;overflow: hidden;text-align: left;background-color: #f0f8ff;}#sk-container-id-3 div.sk-toggleable__content pre {margin: 0.2em;color: black;border-radius: 0.25em;background-color: #f0f8ff;}#sk-container-id-3 input.sk-toggleable__control:checked~div.sk-toggleable__content {max-height: 200px;max-width: 100%;overflow: auto;}#sk-container-id-3 input.sk-toggleable__control:checked~label.sk-toggleable__label-arrow:before {content: \"▾\";}#sk-container-id-3 div.sk-estimator input.sk-toggleable__control:checked~label.sk-toggleable__label {background-color: #d4ebff;}#sk-container-id-3 div.sk-label input.sk-toggleable__control:checked~label.sk-toggleable__label {background-color: #d4ebff;}#sk-container-id-3 input.sk-hidden--visually {border: 0;clip: rect(1px 1px 1px 1px);clip: rect(1px, 1px, 1px, 1px);height: 1px;margin: -1px;overflow: hidden;padding: 0;position: absolute;width: 1px;}#sk-container-id-3 div.sk-estimator {font-family: monospace;background-color: #f0f8ff;border: 1px dotted black;border-radius: 0.25em;box-sizing: border-box;margin-bottom: 0.5em;}#sk-container-id-3 div.sk-estimator:hover {background-color: #d4ebff;}#sk-container-id-3 div.sk-parallel-item::after {content: \"\";width: 100%;border-bottom: 1px solid gray;flex-grow: 1;}#sk-container-id-3 div.sk-label:hover label.sk-toggleable__label {background-color: #d4ebff;}#sk-container-id-3 div.sk-serial::before {content: \"\";position: absolute;border-left: 1px solid gray;box-sizing: border-box;top: 0;bottom: 0;left: 50%;z-index: 0;}#sk-container-id-3 div.sk-serial {display: flex;flex-direction: column;align-items: center;background-color: white;padding-right: 0.2em;padding-left: 0.2em;position: relative;}#sk-container-id-3 div.sk-item {position: relative;z-index: 1;}#sk-container-id-3 div.sk-parallel {display: flex;align-items: stretch;justify-content: center;background-color: white;position: relative;}#sk-container-id-3 div.sk-item::before, #sk-container-id-3 div.sk-parallel-item::before {content: \"\";position: absolute;border-left: 1px solid gray;box-sizing: border-box;top: 0;bottom: 0;left: 50%;z-index: -1;}#sk-container-id-3 div.sk-parallel-item {display: flex;flex-direction: column;z-index: 1;position: relative;background-color: white;}#sk-container-id-3 div.sk-parallel-item:first-child::after {align-self: flex-end;width: 50%;}#sk-container-id-3 div.sk-parallel-item:last-child::after {align-self: flex-start;width: 50%;}#sk-container-id-3 div.sk-parallel-item:only-child::after {width: 0;}#sk-container-id-3 div.sk-dashed-wrapped {border: 1px dashed gray;margin: 0 0.4em 0.5em 0.4em;box-sizing: border-box;padding-bottom: 0.4em;background-color: white;}#sk-container-id-3 div.sk-label label {font-family: monospace;font-weight: bold;display: inline-block;line-height: 1.2em;}#sk-container-id-3 div.sk-label-container {text-align: center;}#sk-container-id-3 div.sk-container {/* jupyter's `normalize.less` sets `[hidden] { display: none; }` but bootstrap.min.css set `[hidden] { display: none !important; }` so we also need the `!important` here to be able to override the default hidden behavior on the sphinx rendered scikit-learn.org. See: https://github.com/scikit-learn/scikit-learn/issues/21755 */display: inline-block !important;position: relative;}#sk-container-id-3 div.sk-text-repr-fallback {display: none;}</style><div id=\"sk-container-id-3\" class=\"sk-top-container\"><div class=\"sk-text-repr-fallback\"><pre>GridSearchCV(cv=5,\n",
       "             estimator=XGBRegressor(base_score=None, booster=None,\n",
       "                                    callbacks=None, colsample_bylevel=None,\n",
       "                                    colsample_bynode=None,\n",
       "                                    colsample_bytree=None,\n",
       "                                    early_stopping_rounds=None,\n",
       "                                    enable_categorical=False, eval_metric=None,\n",
       "                                    feature_types=None, gamma=None, gpu_id=None,\n",
       "                                    grow_policy=None, importance_type=None,\n",
       "                                    interaction_constraints=None,\n",
       "                                    learning_rate=None, m...\n",
       "                                    max_cat_to_onehot=None, max_delta_step=None,\n",
       "                                    max_depth=None, max_leaves=None,\n",
       "                                    min_child_weight=None, missing=nan,\n",
       "                                    monotone_constraints=None, n_estimators=100,\n",
       "                                    n_jobs=None, num_parallel_tree=None,\n",
       "                                    predictor=None, random_state=101, ...),\n",
       "             n_jobs=-1,\n",
       "             param_grid={&#x27;learning_rate&#x27;: [0.01, 0.05, 0.1],\n",
       "                         &#x27;max_depth&#x27;: [2, 3, 4],\n",
       "                         &#x27;n_estimators&#x27;: [100, 150, 200, 250, 300]},\n",
       "             scoring=&#x27;neg_mean_squared_error&#x27;, verbose=2)</pre><b>In a Jupyter environment, please rerun this cell to show the HTML representation or trust the notebook. <br />On GitHub, the HTML representation is unable to render, please try loading this page with nbviewer.org.</b></div><div class=\"sk-container\" hidden><div class=\"sk-item sk-dashed-wrapped\"><div class=\"sk-label-container\"><div class=\"sk-label sk-toggleable\"><input class=\"sk-toggleable__control sk-hidden--visually\" id=\"sk-estimator-id-5\" type=\"checkbox\" ><label for=\"sk-estimator-id-5\" class=\"sk-toggleable__label sk-toggleable__label-arrow\">GridSearchCV</label><div class=\"sk-toggleable__content\"><pre>GridSearchCV(cv=5,\n",
       "             estimator=XGBRegressor(base_score=None, booster=None,\n",
       "                                    callbacks=None, colsample_bylevel=None,\n",
       "                                    colsample_bynode=None,\n",
       "                                    colsample_bytree=None,\n",
       "                                    early_stopping_rounds=None,\n",
       "                                    enable_categorical=False, eval_metric=None,\n",
       "                                    feature_types=None, gamma=None, gpu_id=None,\n",
       "                                    grow_policy=None, importance_type=None,\n",
       "                                    interaction_constraints=None,\n",
       "                                    learning_rate=None, m...\n",
       "                                    max_cat_to_onehot=None, max_delta_step=None,\n",
       "                                    max_depth=None, max_leaves=None,\n",
       "                                    min_child_weight=None, missing=nan,\n",
       "                                    monotone_constraints=None, n_estimators=100,\n",
       "                                    n_jobs=None, num_parallel_tree=None,\n",
       "                                    predictor=None, random_state=101, ...),\n",
       "             n_jobs=-1,\n",
       "             param_grid={&#x27;learning_rate&#x27;: [0.01, 0.05, 0.1],\n",
       "                         &#x27;max_depth&#x27;: [2, 3, 4],\n",
       "                         &#x27;n_estimators&#x27;: [100, 150, 200, 250, 300]},\n",
       "             scoring=&#x27;neg_mean_squared_error&#x27;, verbose=2)</pre></div></div></div><div class=\"sk-parallel\"><div class=\"sk-parallel-item\"><div class=\"sk-item\"><div class=\"sk-label-container\"><div class=\"sk-label sk-toggleable\"><input class=\"sk-toggleable__control sk-hidden--visually\" id=\"sk-estimator-id-6\" type=\"checkbox\" ><label for=\"sk-estimator-id-6\" class=\"sk-toggleable__label sk-toggleable__label-arrow\">estimator: XGBRegressor</label><div class=\"sk-toggleable__content\"><pre>XGBRegressor(base_score=None, booster=None, callbacks=None,\n",
       "             colsample_bylevel=None, colsample_bynode=None,\n",
       "             colsample_bytree=None, early_stopping_rounds=None,\n",
       "             enable_categorical=False, eval_metric=None, feature_types=None,\n",
       "             gamma=None, gpu_id=None, grow_policy=None, importance_type=None,\n",
       "             interaction_constraints=None, learning_rate=None, max_bin=None,\n",
       "             max_cat_threshold=None, max_cat_to_onehot=None,\n",
       "             max_delta_step=None, max_depth=None, max_leaves=None,\n",
       "             min_child_weight=None, missing=nan, monotone_constraints=None,\n",
       "             n_estimators=100, n_jobs=None, num_parallel_tree=None,\n",
       "             predictor=None, random_state=101, ...)</pre></div></div></div><div class=\"sk-serial\"><div class=\"sk-item\"><div class=\"sk-estimator sk-toggleable\"><input class=\"sk-toggleable__control sk-hidden--visually\" id=\"sk-estimator-id-7\" type=\"checkbox\" ><label for=\"sk-estimator-id-7\" class=\"sk-toggleable__label sk-toggleable__label-arrow\">XGBRegressor</label><div class=\"sk-toggleable__content\"><pre>XGBRegressor(base_score=None, booster=None, callbacks=None,\n",
       "             colsample_bylevel=None, colsample_bynode=None,\n",
       "             colsample_bytree=None, early_stopping_rounds=None,\n",
       "             enable_categorical=False, eval_metric=None, feature_types=None,\n",
       "             gamma=None, gpu_id=None, grow_policy=None, importance_type=None,\n",
       "             interaction_constraints=None, learning_rate=None, max_bin=None,\n",
       "             max_cat_threshold=None, max_cat_to_onehot=None,\n",
       "             max_delta_step=None, max_depth=None, max_leaves=None,\n",
       "             min_child_weight=None, missing=nan, monotone_constraints=None,\n",
       "             n_estimators=100, n_jobs=None, num_parallel_tree=None,\n",
       "             predictor=None, random_state=101, ...)</pre></div></div></div></div></div></div></div></div></div></div>"
      ],
      "text/plain": [
       "GridSearchCV(cv=5,\n",
       "             estimator=XGBRegressor(base_score=None, booster=None,\n",
       "                                    callbacks=None, colsample_bylevel=None,\n",
       "                                    colsample_bynode=None,\n",
       "                                    colsample_bytree=None,\n",
       "                                    early_stopping_rounds=None,\n",
       "                                    enable_categorical=False, eval_metric=None,\n",
       "                                    feature_types=None, gamma=None, gpu_id=None,\n",
       "                                    grow_policy=None, importance_type=None,\n",
       "                                    interaction_constraints=None,\n",
       "                                    learning_rate=None, m...\n",
       "                                    max_cat_to_onehot=None, max_delta_step=None,\n",
       "                                    max_depth=None, max_leaves=None,\n",
       "                                    min_child_weight=None, missing=nan,\n",
       "                                    monotone_constraints=None, n_estimators=100,\n",
       "                                    n_jobs=None, num_parallel_tree=None,\n",
       "                                    predictor=None, random_state=101, ...),\n",
       "             n_jobs=-1,\n",
       "             param_grid={'learning_rate': [0.01, 0.05, 0.1],\n",
       "                         'max_depth': [2, 3, 4],\n",
       "                         'n_estimators': [100, 150, 200, 250, 300]},\n",
       "             scoring='neg_mean_squared_error', verbose=2)"
      ]
     },
     "execution_count": 36,
     "metadata": {},
     "output_type": "execute_result"
    }
   ],
   "source": [
    "grid_xgb.fit(X_train, y_train)"
   ]
  },
  {
   "cell_type": "code",
   "execution_count": 37,
   "id": "6788b79f-1d6e-445a-b085-042deebb865c",
   "metadata": {},
   "outputs": [
    {
     "data": {
      "text/plain": [
       "{'learning_rate': 0.1, 'max_depth': 4, 'n_estimators': 300}"
      ]
     },
     "execution_count": 37,
     "metadata": {},
     "output_type": "execute_result"
    }
   ],
   "source": [
    "grid_xgb.best_params_"
   ]
  },
  {
   "cell_type": "code",
   "execution_count": 38,
   "id": "ce58d424-eb2b-4127-ad25-f6f44553f1f2",
   "metadata": {},
   "outputs": [
    {
     "data": {
      "text/html": [
       "<div>\n",
       "<style scoped>\n",
       "    .dataframe tbody tr th:only-of-type {\n",
       "        vertical-align: middle;\n",
       "    }\n",
       "\n",
       "    .dataframe tbody tr th {\n",
       "        vertical-align: top;\n",
       "    }\n",
       "\n",
       "    .dataframe thead th {\n",
       "        text-align: right;\n",
       "    }\n",
       "</style>\n",
       "<table border=\"1\" class=\"dataframe\">\n",
       "  <thead>\n",
       "    <tr style=\"text-align: right;\">\n",
       "      <th></th>\n",
       "      <th>train</th>\n",
       "      <th>test</th>\n",
       "    </tr>\n",
       "  </thead>\n",
       "  <tbody>\n",
       "    <tr>\n",
       "      <th>R2</th>\n",
       "      <td>6.398796e-01</td>\n",
       "      <td>5.741591e-01</td>\n",
       "    </tr>\n",
       "    <tr>\n",
       "      <th>mae</th>\n",
       "      <td>1.481132e+05</td>\n",
       "      <td>1.632806e+05</td>\n",
       "    </tr>\n",
       "    <tr>\n",
       "      <th>mse</th>\n",
       "      <td>4.763723e+10</td>\n",
       "      <td>5.909201e+10</td>\n",
       "    </tr>\n",
       "    <tr>\n",
       "      <th>rmse</th>\n",
       "      <td>2.182596e+05</td>\n",
       "      <td>2.430885e+05</td>\n",
       "    </tr>\n",
       "  </tbody>\n",
       "</table>\n",
       "</div>"
      ],
      "text/plain": [
       "             train          test\n",
       "R2    6.398796e-01  5.741591e-01\n",
       "mae   1.481132e+05  1.632806e+05\n",
       "mse   4.763723e+10  5.909201e+10\n",
       "rmse  2.182596e+05  2.430885e+05"
      ]
     },
     "execution_count": 38,
     "metadata": {},
     "output_type": "execute_result"
    }
   ],
   "source": [
    "train_val(grid_xgb,  X_train, y_train, X_test, y_test )"
   ]
  },
  {
   "cell_type": "markdown",
   "id": "50f5a8a1-cf71-4586-a6b7-d1800e7d1d39",
   "metadata": {},
   "source": [
    "Comparing the models"
   ]
  },
  {
   "cell_type": "code",
   "execution_count": 39,
   "id": "ecfc6ca6-dbec-4ba4-8908-6f7decb5e218",
   "metadata": {},
   "outputs": [
    {
     "data": {
      "text/html": [
       "<div>\n",
       "<style scoped>\n",
       "    .dataframe tbody tr th:only-of-type {\n",
       "        vertical-align: middle;\n",
       "    }\n",
       "\n",
       "    .dataframe tbody tr th {\n",
       "        vertical-align: top;\n",
       "    }\n",
       "\n",
       "    .dataframe thead th {\n",
       "        text-align: right;\n",
       "    }\n",
       "</style>\n",
       "<table border=\"1\" class=\"dataframe\">\n",
       "  <thead>\n",
       "    <tr style=\"text-align: right;\">\n",
       "      <th></th>\n",
       "      <th>em_train</th>\n",
       "      <th>em_test</th>\n",
       "      <th>rf_train</th>\n",
       "      <th>rf_test</th>\n",
       "      <th>xgb_train</th>\n",
       "      <th>xgb_test</th>\n",
       "    </tr>\n",
       "  </thead>\n",
       "  <tbody>\n",
       "    <tr>\n",
       "      <th>R2</th>\n",
       "      <td>5.774317e-01</td>\n",
       "      <td>5.801466e-01</td>\n",
       "      <td>5.919371e-01</td>\n",
       "      <td>5.110298e-01</td>\n",
       "      <td>5.261265e-01</td>\n",
       "      <td>5.099902e-01</td>\n",
       "    </tr>\n",
       "    <tr>\n",
       "      <th>mae</th>\n",
       "      <td>1.571698e+05</td>\n",
       "      <td>1.608417e+05</td>\n",
       "      <td>1.581284e+05</td>\n",
       "      <td>1.766518e+05</td>\n",
       "      <td>1.716777e+05</td>\n",
       "      <td>1.783823e+05</td>\n",
       "    </tr>\n",
       "    <tr>\n",
       "      <th>mse</th>\n",
       "      <td>5.589793e+10</td>\n",
       "      <td>5.826114e+10</td>\n",
       "      <td>5.397913e+10</td>\n",
       "      <td>6.785217e+10</td>\n",
       "      <td>6.268465e+10</td>\n",
       "      <td>6.799644e+10</td>\n",
       "    </tr>\n",
       "    <tr>\n",
       "      <th>rmse</th>\n",
       "      <td>2.364274e+05</td>\n",
       "      <td>2.413735e+05</td>\n",
       "      <td>2.323341e+05</td>\n",
       "      <td>2.604845e+05</td>\n",
       "      <td>2.503690e+05</td>\n",
       "      <td>2.607613e+05</td>\n",
       "    </tr>\n",
       "  </tbody>\n",
       "</table>\n",
       "</div>"
      ],
      "text/plain": [
       "          em_train       em_test      rf_train       rf_test     xgb_train  \\\n",
       "R2    5.774317e-01  5.801466e-01  5.919371e-01  5.110298e-01  5.261265e-01   \n",
       "mae   1.571698e+05  1.608417e+05  1.581284e+05  1.766518e+05  1.716777e+05   \n",
       "mse   5.589793e+10  5.826114e+10  5.397913e+10  6.785217e+10  6.268465e+10   \n",
       "rmse  2.364274e+05  2.413735e+05  2.323341e+05  2.604845e+05  2.503690e+05   \n",
       "\n",
       "          xgb_test  \n",
       "R2    5.099902e-01  \n",
       "mae   1.783823e+05  \n",
       "mse   6.799644e+10  \n",
       "rmse  2.607613e+05  "
      ]
     },
     "execution_count": 39,
     "metadata": {},
     "output_type": "execute_result"
    }
   ],
   "source": [
    "all_results = pd.concat([elastic_model_results, rf_model_results, xgb_model_results], axis=1)\n",
    "all_results"
   ]
  },
  {
   "cell_type": "code",
   "execution_count": 40,
   "id": "41554f51-6b03-4fd4-9140-3ec03bf852ec",
   "metadata": {},
   "outputs": [
    {
     "data": {
      "image/png": "[encoded data removed]",
      "text/plain": [
       "<Figure size 800x550 with 1 Axes>"
      ]
     },
     "metadata": {},
     "output_type": "display_data"
    }
   ],
   "source": [
    "fig, ax = plt.subplots()\n",
    "x = all_results.T[\"rmse\"][::-1].index\n",
    "y = all_results.T[\"rmse\"][::-1].values\n",
    "bar_colors = ['midnightblue', 'midnightblue', \"mediumblue\", 'mediumblue', 'deepskyblue', 'deepskyblue', ];\n",
    "ax.barh(x, width=y , color=bar_colors);\n"
   ]
  },
  {
   "cell_type": "markdown",
   "id": "c3c08bbf-cb56-4d61-92e1-5a0ec2b463a8",
   "metadata": {},
   "source": [
    "We decided to choose elasticNet model. Now we will train the model again with the whole data and save it."
   ]
  },
  {
   "cell_type": "markdown",
   "id": "70467809-e1cd-432c-a743-2342d1f5e356",
   "metadata": {},
   "source": [
    "We will build our final model with pipeline. By doing in this way we will not need data preparing when we predicting new values. Data preparing will be embedded in pipeline."
   ]
  },
  {
   "cell_type": "code",
   "execution_count": 41,
   "id": "f5db3e65-4c76-4f80-ac9e-87df3daaf162",
   "metadata": {},
   "outputs": [
    {
     "data": {
      "text/plain": [
       "{'alpha': 50, 'l1_ratio': 1}"
      ]
     },
     "execution_count": 41,
     "metadata": {},
     "output_type": "execute_result"
    }
   ],
   "source": [
    "grid_em.best_params_"
   ]
  },
  {
   "cell_type": "code",
   "execution_count": 42,
   "id": "6224c9af-7fb9-4931-893a-86fd12159a25",
   "metadata": {},
   "outputs": [],
   "source": [
    "X = df.drop(\"SALE_PRICE\", axis=1)\n",
    "y = df[\"SALE_PRICE\"]"
   ]
  },
  {
   "cell_type": "code",
   "execution_count": 43,
   "id": "8cbdeb6d-a83a-450c-9b78-944f22c6d8d5",
   "metadata": {},
   "outputs": [],
   "source": [
    "operations = [(\"OneHotEncoder_StandardScaler\", column_trans_em), (\"ElasticNet_model\", ElasticNet(alpha= 50, l1_ratio=1))]\n",
    "\n",
    "final_model = Pipeline(steps=operations)"
   ]
  },
  {
   "cell_type": "code",
   "execution_count": 44,
   "id": "bc3ab670-a6de-4d22-8d70-e9b7eb4595d8",
   "metadata": {
    "scrolled": true,
    "tags": []
   },
   "outputs": [
    {
     "data": {
      "text/html": [
       "<style>#sk-container-id-4 {color: black;}#sk-container-id-4 pre{padding: 0;}#sk-container-id-4 div.sk-toggleable {background-color: white;}#sk-container-id-4 label.sk-toggleable__label {cursor: pointer;display: block;width: 100%;margin-bottom: 0;padding: 0.3em;box-sizing: border-box;text-align: center;}#sk-container-id-4 label.sk-toggleable__label-arrow:before {content: \"▸\";float: left;margin-right: 0.25em;color: #696969;}#sk-container-id-4 label.sk-toggleable__label-arrow:hover:before {color: black;}#sk-container-id-4 div.sk-estimator:hover label.sk-toggleable__label-arrow:before {color: black;}#sk-container-id-4 div.sk-toggleable__content {max-height: 0;max-width: 0;overflow: hidden;text-align: left;background-color: #f0f8ff;}#sk-container-id-4 div.sk-toggleable__content pre {margin: 0.2em;color: black;border-radius: 0.25em;background-color: #f0f8ff;}#sk-container-id-4 input.sk-toggleable__control:checked~div.sk-toggleable__content {max-height: 200px;max-width: 100%;overflow: auto;}#sk-container-id-4 input.sk-toggleable__control:checked~label.sk-toggleable__label-arrow:before {content: \"▾\";}#sk-container-id-4 div.sk-estimator input.sk-toggleable__control:checked~label.sk-toggleable__label {background-color: #d4ebff;}#sk-container-id-4 div.sk-label input.sk-toggleable__control:checked~label.sk-toggleable__label {background-color: #d4ebff;}#sk-container-id-4 input.sk-hidden--visually {border: 0;clip: rect(1px 1px 1px 1px);clip: rect(1px, 1px, 1px, 1px);height: 1px;margin: -1px;overflow: hidden;padding: 0;position: absolute;width: 1px;}#sk-container-id-4 div.sk-estimator {font-family: monospace;background-color: #f0f8ff;border: 1px dotted black;border-radius: 0.25em;box-sizing: border-box;margin-bottom: 0.5em;}#sk-container-id-4 div.sk-estimator:hover {background-color: #d4ebff;}#sk-container-id-4 div.sk-parallel-item::after {content: \"\";width: 100%;border-bottom: 1px solid gray;flex-grow: 1;}#sk-container-id-4 div.sk-label:hover label.sk-toggleable__label {background-color: #d4ebff;}#sk-container-id-4 div.sk-serial::before {content: \"\";position: absolute;border-left: 1px solid gray;box-sizing: border-box;top: 0;bottom: 0;left: 50%;z-index: 0;}#sk-container-id-4 div.sk-serial {display: flex;flex-direction: column;align-items: center;background-color: white;padding-right: 0.2em;padding-left: 0.2em;position: relative;}#sk-container-id-4 div.sk-item {position: relative;z-index: 1;}#sk-container-id-4 div.sk-parallel {display: flex;align-items: stretch;justify-content: center;background-color: white;position: relative;}#sk-container-id-4 div.sk-item::before, #sk-container-id-4 div.sk-parallel-item::before {content: \"\";position: absolute;border-left: 1px solid gray;box-sizing: border-box;top: 0;bottom: 0;left: 50%;z-index: -1;}#sk-container-id-4 div.sk-parallel-item {display: flex;flex-direction: column;z-index: 1;position: relative;background-color: white;}#sk-container-id-4 div.sk-parallel-item:first-child::after {align-self: flex-end;width: 50%;}#sk-container-id-4 div.sk-parallel-item:last-child::after {align-self: flex-start;width: 50%;}#sk-container-id-4 div.sk-parallel-item:only-child::after {width: 0;}#sk-container-id-4 div.sk-dashed-wrapped {border: 1px dashed gray;margin: 0 0.4em 0.5em 0.4em;box-sizing: border-box;padding-bottom: 0.4em;background-color: white;}#sk-container-id-4 div.sk-label label {font-family: monospace;font-weight: bold;display: inline-block;line-height: 1.2em;}#sk-container-id-4 div.sk-label-container {text-align: center;}#sk-container-id-4 div.sk-container {/* jupyter's `normalize.less` sets `[hidden] { display: none; }` but bootstrap.min.css set `[hidden] { display: none !important; }` so we also need the `!important` here to be able to override the default hidden behavior on the sphinx rendered scikit-learn.org. See: https://github.com/scikit-learn/scikit-learn/issues/21755 */display: inline-block !important;position: relative;}#sk-container-id-4 div.sk-text-repr-fallback {display: none;}</style><div id=\"sk-container-id-4\" class=\"sk-top-container\"><div class=\"sk-text-repr-fallback\"><pre>Pipeline(steps=[(&#x27;OneHotEncoder_StandardScaler&#x27;,\n",
       "                 ColumnTransformer(remainder=&#x27;passthrough&#x27;,\n",
       "                                   transformers=[(&#x27;onehotencoder&#x27;,\n",
       "                                                  OneHotEncoder(drop=&#x27;first&#x27;,\n",
       "                                                                handle_unknown=&#x27;ignore&#x27;),\n",
       "                                                  Index([&#x27;NEIGHBORHOOD&#x27;, &#x27;BUILDING_CLASS_CATEGORY&#x27;, &#x27;TAX_CLASS_AT_PRESENT&#x27;,\n",
       "       &#x27;TAX_CLASS_AT_TIME_OF_SALE&#x27;, &#x27;BUILDING_CLASS_AT_PRESENT&#x27;,\n",
       "       &#x27;BUILDING_CLASS_AT_TIME_OF_SALE&#x27;, &#x27;BOROUGH_NAME&#x27;],\n",
       "      dtype=&#x27;object&#x27;)),\n",
       "                                                 (&#x27;standardscaler&#x27;,\n",
       "                                                  StandardScaler(),\n",
       "                                                  Index([&#x27;RESIDENTIAL_UNITS&#x27;, &#x27;COMMERCIAL_UNITS&#x27;, &#x27;TOTAL_UNITS&#x27;,\n",
       "       &#x27;LAND_SQUARE_FEET&#x27;, &#x27;GROSS_SQUARE_FEET&#x27;, &#x27;AGE&#x27;],\n",
       "      dtype=&#x27;object&#x27;))])),\n",
       "                (&#x27;ElasticNet_model&#x27;, ElasticNet(alpha=50, l1_ratio=1))])</pre><b>In a Jupyter environment, please rerun this cell to show the HTML representation or trust the notebook. <br />On GitHub, the HTML representation is unable to render, please try loading this page with nbviewer.org.</b></div><div class=\"sk-container\" hidden><div class=\"sk-item sk-dashed-wrapped\"><div class=\"sk-label-container\"><div class=\"sk-label sk-toggleable\"><input class=\"sk-toggleable__control sk-hidden--visually\" id=\"sk-estimator-id-8\" type=\"checkbox\" ><label for=\"sk-estimator-id-8\" class=\"sk-toggleable__label sk-toggleable__label-arrow\">Pipeline</label><div class=\"sk-toggleable__content\"><pre>Pipeline(steps=[(&#x27;OneHotEncoder_StandardScaler&#x27;,\n",
       "                 ColumnTransformer(remainder=&#x27;passthrough&#x27;,\n",
       "                                   transformers=[(&#x27;onehotencoder&#x27;,\n",
       "                                                  OneHotEncoder(drop=&#x27;first&#x27;,\n",
       "                                                                handle_unknown=&#x27;ignore&#x27;),\n",
       "                                                  Index([&#x27;NEIGHBORHOOD&#x27;, &#x27;BUILDING_CLASS_CATEGORY&#x27;, &#x27;TAX_CLASS_AT_PRESENT&#x27;,\n",
       "       &#x27;TAX_CLASS_AT_TIME_OF_SALE&#x27;, &#x27;BUILDING_CLASS_AT_PRESENT&#x27;,\n",
       "       &#x27;BUILDING_CLASS_AT_TIME_OF_SALE&#x27;, &#x27;BOROUGH_NAME&#x27;],\n",
       "      dtype=&#x27;object&#x27;)),\n",
       "                                                 (&#x27;standardscaler&#x27;,\n",
       "                                                  StandardScaler(),\n",
       "                                                  Index([&#x27;RESIDENTIAL_UNITS&#x27;, &#x27;COMMERCIAL_UNITS&#x27;, &#x27;TOTAL_UNITS&#x27;,\n",
       "       &#x27;LAND_SQUARE_FEET&#x27;, &#x27;GROSS_SQUARE_FEET&#x27;, &#x27;AGE&#x27;],\n",
       "      dtype=&#x27;object&#x27;))])),\n",
       "                (&#x27;ElasticNet_model&#x27;, ElasticNet(alpha=50, l1_ratio=1))])</pre></div></div></div><div class=\"sk-serial\"><div class=\"sk-item sk-dashed-wrapped\"><div class=\"sk-label-container\"><div class=\"sk-label sk-toggleable\"><input class=\"sk-toggleable__control sk-hidden--visually\" id=\"sk-estimator-id-9\" type=\"checkbox\" ><label for=\"sk-estimator-id-9\" class=\"sk-toggleable__label sk-toggleable__label-arrow\">OneHotEncoder_StandardScaler: ColumnTransformer</label><div class=\"sk-toggleable__content\"><pre>ColumnTransformer(remainder=&#x27;passthrough&#x27;,\n",
       "                  transformers=[(&#x27;onehotencoder&#x27;,\n",
       "                                 OneHotEncoder(drop=&#x27;first&#x27;,\n",
       "                                               handle_unknown=&#x27;ignore&#x27;),\n",
       "                                 Index([&#x27;NEIGHBORHOOD&#x27;, &#x27;BUILDING_CLASS_CATEGORY&#x27;, &#x27;TAX_CLASS_AT_PRESENT&#x27;,\n",
       "       &#x27;TAX_CLASS_AT_TIME_OF_SALE&#x27;, &#x27;BUILDING_CLASS_AT_PRESENT&#x27;,\n",
       "       &#x27;BUILDING_CLASS_AT_TIME_OF_SALE&#x27;, &#x27;BOROUGH_NAME&#x27;],\n",
       "      dtype=&#x27;object&#x27;)),\n",
       "                                (&#x27;standardscaler&#x27;, StandardScaler(),\n",
       "                                 Index([&#x27;RESIDENTIAL_UNITS&#x27;, &#x27;COMMERCIAL_UNITS&#x27;, &#x27;TOTAL_UNITS&#x27;,\n",
       "       &#x27;LAND_SQUARE_FEET&#x27;, &#x27;GROSS_SQUARE_FEET&#x27;, &#x27;AGE&#x27;],\n",
       "      dtype=&#x27;object&#x27;))])</pre></div></div></div><div class=\"sk-parallel\"><div class=\"sk-parallel-item\"><div class=\"sk-item\"><div class=\"sk-label-container\"><div class=\"sk-label sk-toggleable\"><input class=\"sk-toggleable__control sk-hidden--visually\" id=\"sk-estimator-id-10\" type=\"checkbox\" ><label for=\"sk-estimator-id-10\" class=\"sk-toggleable__label sk-toggleable__label-arrow\">onehotencoder</label><div class=\"sk-toggleable__content\"><pre>Index([&#x27;NEIGHBORHOOD&#x27;, &#x27;BUILDING_CLASS_CATEGORY&#x27;, &#x27;TAX_CLASS_AT_PRESENT&#x27;,\n",
       "       &#x27;TAX_CLASS_AT_TIME_OF_SALE&#x27;, &#x27;BUILDING_CLASS_AT_PRESENT&#x27;,\n",
       "       &#x27;BUILDING_CLASS_AT_TIME_OF_SALE&#x27;, &#x27;BOROUGH_NAME&#x27;],\n",
       "      dtype=&#x27;object&#x27;)</pre></div></div></div><div class=\"sk-serial\"><div class=\"sk-item\"><div class=\"sk-estimator sk-toggleable\"><input class=\"sk-toggleable__control sk-hidden--visually\" id=\"sk-estimator-id-11\" type=\"checkbox\" ><label for=\"sk-estimator-id-11\" class=\"sk-toggleable__label sk-toggleable__label-arrow\">OneHotEncoder</label><div class=\"sk-toggleable__content\"><pre>OneHotEncoder(drop=&#x27;first&#x27;, handle_unknown=&#x27;ignore&#x27;)</pre></div></div></div></div></div></div><div class=\"sk-parallel-item\"><div class=\"sk-item\"><div class=\"sk-label-container\"><div class=\"sk-label sk-toggleable\"><input class=\"sk-toggleable__control sk-hidden--visually\" id=\"sk-estimator-id-12\" type=\"checkbox\" ><label for=\"sk-estimator-id-12\" class=\"sk-toggleable__label sk-toggleable__label-arrow\">standardscaler</label><div class=\"sk-toggleable__content\"><pre>Index([&#x27;RESIDENTIAL_UNITS&#x27;, &#x27;COMMERCIAL_UNITS&#x27;, &#x27;TOTAL_UNITS&#x27;,\n",
       "       &#x27;LAND_SQUARE_FEET&#x27;, &#x27;GROSS_SQUARE_FEET&#x27;, &#x27;AGE&#x27;],\n",
       "      dtype=&#x27;object&#x27;)</pre></div></div></div><div class=\"sk-serial\"><div class=\"sk-item\"><div class=\"sk-estimator sk-toggleable\"><input class=\"sk-toggleable__control sk-hidden--visually\" id=\"sk-estimator-id-13\" type=\"checkbox\" ><label for=\"sk-estimator-id-13\" class=\"sk-toggleable__label sk-toggleable__label-arrow\">StandardScaler</label><div class=\"sk-toggleable__content\"><pre>StandardScaler()</pre></div></div></div></div></div></div><div class=\"sk-parallel-item\"><div class=\"sk-item\"><div class=\"sk-label-container\"><div class=\"sk-label sk-toggleable\"><input class=\"sk-toggleable__control sk-hidden--visually\" id=\"sk-estimator-id-14\" type=\"checkbox\" ><label for=\"sk-estimator-id-14\" class=\"sk-toggleable__label sk-toggleable__label-arrow\">remainder</label><div class=\"sk-toggleable__content\"><pre>[]</pre></div></div></div><div class=\"sk-serial\"><div class=\"sk-item\"><div class=\"sk-estimator sk-toggleable\"><input class=\"sk-toggleable__control sk-hidden--visually\" id=\"sk-estimator-id-15\" type=\"checkbox\" ><label for=\"sk-estimator-id-15\" class=\"sk-toggleable__label sk-toggleable__label-arrow\">passthrough</label><div class=\"sk-toggleable__content\"><pre>passthrough</pre></div></div></div></div></div></div></div></div><div class=\"sk-item\"><div class=\"sk-estimator sk-toggleable\"><input class=\"sk-toggleable__control sk-hidden--visually\" id=\"sk-estimator-id-16\" type=\"checkbox\" ><label for=\"sk-estimator-id-16\" class=\"sk-toggleable__label sk-toggleable__label-arrow\">ElasticNet</label><div class=\"sk-toggleable__content\"><pre>ElasticNet(alpha=50, l1_ratio=1)</pre></div></div></div></div></div></div></div>"
      ],
      "text/plain": [
       "Pipeline(steps=[('OneHotEncoder_StandardScaler',\n",
       "                 ColumnTransformer(remainder='passthrough',\n",
       "                                   transformers=[('onehotencoder',\n",
       "                                                  OneHotEncoder(drop='first',\n",
       "                                                                handle_unknown='ignore'),\n",
       "                                                  Index(['NEIGHBORHOOD', 'BUILDING_CLASS_CATEGORY', 'TAX_CLASS_AT_PRESENT',\n",
       "       'TAX_CLASS_AT_TIME_OF_SALE', 'BUILDING_CLASS_AT_PRESENT',\n",
       "       'BUILDING_CLASS_AT_TIME_OF_SALE', 'BOROUGH_NAME'],\n",
       "      dtype='object')),\n",
       "                                                 ('standardscaler',\n",
       "                                                  StandardScaler(),\n",
       "                                                  Index(['RESIDENTIAL_UNITS', 'COMMERCIAL_UNITS', 'TOTAL_UNITS',\n",
       "       'LAND_SQUARE_FEET', 'GROSS_SQUARE_FEET', 'AGE'],\n",
       "      dtype='object'))])),\n",
       "                ('ElasticNet_model', ElasticNet(alpha=50, l1_ratio=1))])"
      ]
     },
     "execution_count": 44,
     "metadata": {},
     "output_type": "execute_result"
    }
   ],
   "source": [
    "final_model.fit(X, y)"
   ]
  },
  {
   "cell_type": "code",
   "execution_count": 45,
   "id": "1ceb4bec-eccc-46a8-adbe-3f90b03a3f13",
   "metadata": {},
   "outputs": [],
   "source": [
    "pickle.dump(final_model, open(\"NYC_sales_pred_model\", 'wb')) \n"
   ]
  },
  {
   "cell_type": "code",
   "execution_count": 46,
   "id": "f9817987-f74a-4fe9-a455-b1a6bd872d0c",
   "metadata": {},
   "outputs": [],
   "source": [
    "loaded_model = pickle.load(open(\"NYC_sales_pred_model\", \"rb\"))"
   ]
  },
  {
   "cell_type": "markdown",
   "id": "d57ab55c-6a71-4190-959d-9df31470957d",
   "metadata": {},
   "source": [
    "X = df.drop(\"SALE_PRICE\", axis=1)"
   ]
  },
  {
   "cell_type": "code",
   "execution_count": 53,
   "id": "fe3d0e9f-bb36-4443-9915-b0e07633f6b9",
   "metadata": {},
   "outputs": [
    {
     "name": "stdout",
     "output_type": "stream",
     "text": [
      "290000.0 is real value for index 101 \n"
     ]
    }
   ],
   "source": [
    "index = 101\n",
    "\n",
    "test = X.iloc[[index]]\n",
    "\n",
    "print(f\"{y.iloc[index]} is real value for index {index} \")\n",
    "    "
   ]
  },
  {
   "cell_type": "code",
   "execution_count": 54,
   "id": "ff3376b3-a0d7-4732-97f3-74dd6886979d",
   "metadata": {
    "tags": []
   },
   "outputs": [
    {
     "name": "stdout",
     "output_type": "stream",
     "text": [
      "234798.0 is the prediction for index 101\n"
     ]
    }
   ],
   "source": [
    "pred = round(\n",
    "        loaded_model.predict(test)[0],\n",
    "    0)\n",
    "\n",
    "print(f\"{pred} is the prediction for index {index}\")"
   ]
  }
 ],
 "metadata": {
  "kernelspec": {
   "display_name": "Python 3 (ipykernel)",
   "language": "python",
   "name": "python3"
  },
  "language_info": {
   "codemirror_mode": {
    "name": "ipython",
    "version": 3
   },
   "file_extension": ".py",
   "mimetype": "text/x-python",
   "name": "python",
   "nbconvert_exporter": "python",
   "pygments_lexer": "ipython3",
   "version": "3.11.4"
  }
 },
 "nbformat": 4,
 "nbformat_minor": 5
}
